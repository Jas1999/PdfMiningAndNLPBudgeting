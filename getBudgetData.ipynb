{
 "cells": [
  {
   "cell_type": "code",
   "execution_count": 1,
   "metadata": {},
   "outputs": [],
   "source": [
    "import os\n",
    "import sys\n",
    "import PyPDF2\n",
    "from datetime import datetime\n",
    "from datetime import timedelta\n",
    "import pandas as pd\n",
    "import matplotlib.pyplot as plt\n",
    "import re"
   ]
  },
  {
   "cell_type": "code",
   "execution_count": 2,
   "metadata": {},
   "outputs": [
    {
     "name": "stdout",
     "output_type": "stream",
     "text": [
      "C:\\school\\python\\budget\\budgetapp\\pdfs\\2020\\June_July_20.pdf\n"
     ]
    }
   ],
   "source": [
    "currDate = datetime.now()\n",
    "CurrDay = currDate.strftime(\"%d\")\n",
    "currDate = datetime.now() - timedelta(days = (int (CurrDay)+2))\n",
    "OldDate = datetime.now() - timedelta(days = 40)\n",
    "#OldDate = datetime.now() - timedelta(days = (int (CurrDay)+1)) # use after done\n",
    "\n",
    "CurrMonth = (currDate.strftime('%b')) # ('%B')\n",
    "LastMonth = (OldDate.strftime('%b'))\n",
    "CurrYear = (currDate.strftime('%Y'))\n",
    "StatementRows = pd.DataFrame(columns = [\"Date\",\"Description\",\"Spending Cat\",\"Amount\"])#{\"Date\":[],\"Description\":[],\"Spending Cat\":[],\"Amount\":[]})\n",
    "RowInfo = {}#{\"Date\": ,\"Description\": , \"Spending Cat\":,\"Amount\": }\n",
    "\n",
    "MainFolder = \"C:\\\\school\\\\python\\\\budget\\\\budgetapp\\\\pdfs\\\\2020\\\\\"\n",
    "PdfName = \"June_July_20\"\n",
    "#ReadPdf = r\"C:\\school\\projects\\Projects\\Python\\budgetapp\\Oct_Nov_2018.pdf\" #MainFolder+PdfName\n",
    "\n",
    "ReadPdf = MainFolder+PdfName + \".pdf\"#r\"C:\\school\\python\\budget\\budgetapp\\Oct_Nov_2018.pdf\" #MainFolder+PdfName\n",
    "print(ReadPdf)"
   ]
  },
  {
   "cell_type": "code",
   "execution_count": 3,
   "metadata": {},
   "outputs": [
    {
     "name": "stdout",
     "output_type": "stream",
     "text": [
      "['April_May_20', 'pdf']\n",
      "['Aug_Sept_20', 'pdf']\n",
      "['Dec_Jan_20', 'pdf']\n",
      "['Feb_Mar_20', 'pdf']\n",
      "['Jan_Feb_20', 'pdf']\n",
      "['Jul_Aug_20', 'pdf']\n",
      "['June_July_20', 'pdf']\n",
      "['Mar_April_20', 'pdf']\n",
      "['May_June_20', 'pdf']\n",
      "['Nov_Dec_20', 'pdf']\n",
      "['Oct_Nov_20', 'pdf']\n"
     ]
    }
   ],
   "source": [
    "\n",
    "import os\n",
    "\n",
    "for filename in os.listdir(MainFolder):\n",
    "    #print(os.path.join(directory, filename))\n",
    "    print(filename.split('.'))"
   ]
  },
  {
   "cell_type": "code",
   "execution_count": 4,
   "metadata": {},
   "outputs": [
    {
     "name": "stderr",
     "output_type": "stream",
     "text": [
      "PdfReadWarning: Xref table not zero-indexed. ID numbers for objects will be corrected. [pdf.py:1736]\n"
     ]
    },
    {
     "data": {
      "text/plain": [
       "'Your account at a glancePrevious balance$8.81CRPayments$200.00Other credits0.00Total credits- $200.00Purchases316.50Cash advances0.00Interest0.00Fees0.00Total charges+$316.50Total balance =$107.69 Your payment due this monthAmount Due1$107.69Minimum Payment2Please pay this amount by Aug 04, 2020$10.00JASMAN SINGH SAHIAccount number4502 3200 6332 1761Statement DateJuly 13, 2020July statement periodJune 14to July 13, 2020Contact usCustomer Service1 800 465-4653Lost/Stolen1 800 663-4575TTY1 877 331-3338Onlinewww.cibc.comSummaryCreditƒCashƒLimit$3,000.00$1,500.00Available$2,892.31$1,500.00Interest ratesAnnualRegular purchases19.99%Cash advances22.99%CIBC Dividend®Visa*Card Tear Off  here  Please turn over - Transactions begin on page 2 Page 1 of 3Cash Back Summary As at last statement+18.67This statementPromotions+0.932% Cash Back+1.85Cash Back+1.15Total Cash Back=22.60031558JASMAN SINGH SAHI13469 INNIS LAKE RDCALEDON EAST ON  L7C 2Z6ððððôõðòóòððöóóòñ÷öñððððððððñð÷öùðððððððððñðððùCIBCPO BOX4595 STN ATORONTO ON  M5W4X9188-031558Account number4502 3200 6332 1761Amount Due$107.69Minimum Payment due by Aug 04, 2020 $10.00Total payment enclosed$_____________CIBC Dividend VisaCardPayment optionsŁOnline Banking: www.cibc.comŁTelephone Banking: 1 800 465-CIBC (2422)ŁCIBC bank machines and most financialinstitutionsŁMail: Return completed slip with your chequeor money order payable toCIBC.For general inquiries call1 800 465-4653Do not staple or attach correspondence.\\\\ðòðñõòðòðð\\\\*0201520200*'"
      ]
     },
     "execution_count": 4,
     "metadata": {},
     "output_type": "execute_result"
    }
   ],
   "source": [
    "PdfObj = open(ReadPdf, 'rb')\n",
    "pdfReader =  PyPDF2.PdfFileReader(PdfObj)\n",
    "#print (\"number of pages\")\n",
    "#print (pdfReader.numPages)\n",
    "PDFSize =  (pdfReader.numPages)\n",
    "ExcelInformation = []\n",
    "PDFContent = \"\"\n",
    "PDFText = \"\"\n",
    "SpendingCategory = [\"Personal and Household Expenses\",\"Professional and Financial Services\",\"Retail and Grocery\",\"Transportation\",\"Hotel, Entertainment and Recreation\",\"Restaurants\",\"Home and Office Improvement\",\"Health and Education\",\"Foreign Currency Transactions\"]\n",
    "PDFText = pdfReader.getPage(0).extractText()\n",
    "PDFText"
   ]
  },
  {
   "cell_type": "code",
   "execution_count": 5,
   "metadata": {},
   "outputs": [
    {
     "data": {
      "text/plain": [
       "\"Jun 12Jun 15MCDONALD S #9425         BOLTON       ONRestaurants13.54Jun 12Jun 15SOBEYS #937              BRAMPTON     ONRetail and Grocery31.95Jun 12Jun 15SOBEYS #937              BRAMPTON     ONRetail and Grocery6.69Jun 14Jun 16WENDY'S            Q1R   BRAMPTON     ONRestaurants15.81Jun 17Jun 22DAIRY QUEEN # 12281      BRAMPTON     ONRestaurants14.43Jun 19Jun 22FOOD FIGHT BBQ           BRAMPTON     ONRestaurants50.15Jun 26Jun 29GOOD EGG DINING          BRAMPTON     ONRestaurants31.60Jun 30Jul 02Amazon.ca Prime Member   amazon.ca/priBCProfessional and Financial Services44.07Jul 02Jul 02ASIAN FOOD CENTRE        BRAMPTON     ONRetail and Grocery15.00Jul 10Jul 13POPEYES LOUISANA KITCHEN BRAMPTON     ONRestaurants26.52Jul 10Jul 13ASIAN FOOD CENTRE        BRAMPTON     ONRetail and Grocery38.50Jul 12Jul 13KELSEY'S #7699           BOLTON       ONRestaurants28.24Total for4502 3200 6332 1761$316.50\""
      ]
     },
     "execution_count": 5,
     "metadata": {},
     "output_type": "execute_result"
    }
   ],
   "source": [
    "def ExtractPDFContent(PDFContent):\n",
    "    for i in range(1,PDFSize):\n",
    "        #print ('Page Content')\n",
    "        pageObj = pdfReader.getPage(i)\n",
    "        PDFText = pageObj.extractText()\n",
    "\n",
    "        if PDFText.find(\"CIBC CreditSmart\") == -1:\n",
    "            Count = PDFText.find(\"Card number\")+31\n",
    "            #print (Count)\n",
    "            End = PDFText.find(\"If you find an error or irregularity\")\n",
    "            if End == -1:\n",
    "                End = PDFText.find(\"Total for\")\n",
    "            PDFContent += PDFText[Count:End]\n",
    "        else:\n",
    "            break\n",
    "    return PDFContent\n",
    "\n",
    "PDFContent = ExtractPDFContent(PDFContent)\n",
    "PDFContent"
   ]
  },
  {
   "cell_type": "code",
   "execution_count": 6,
   "metadata": {},
   "outputs": [],
   "source": [
    "#x = re.findall( r\"[A-z]* \\d\\d[A-z]* \\d\\d\", PDFContent)\n",
    "#x"
   ]
  },
  {
   "cell_type": "code",
   "execution_count": 7,
   "metadata": {},
   "outputs": [
    {
     "data": {
      "text/plain": [
       "['',\n",
       " 'MCDONALD S #9425         BOLTON       ONRestaurants13.54',\n",
       " 'SOBEYS #937              BRAMPTON     ONRetail and Grocery31.95',\n",
       " 'SOBEYS #937              BRAMPTON     ONRetail and Grocery6.69',\n",
       " \"WENDY'S            Q1R   BRAMPTON     ONRestaurants15.81\",\n",
       " 'DAIRY QUEEN # 12281      BRAMPTON     ONRestaurants14.43',\n",
       " 'FOOD FIGHT BBQ           BRAMPTON     ONRestaurants50.15',\n",
       " 'GOOD EGG DINING          BRAMPTON     ONRestaurants31.60',\n",
       " 'Amazon.ca Prime Member   amazon.ca/priBCProfessional and Financial Services44.07',\n",
       " 'ASIAN FOOD CENTRE        BRAMPTON     ONRetail and Grocery15.00',\n",
       " 'POPEYES LOUISANA KITCHEN BRAMPTON     ONRestaurants26.52',\n",
       " 'ASIAN FOOD CENTRE        BRAMPTON     ONRetail and Grocery38.50',\n",
       " \"KELSEY'S #7699           BOLTON       ONRestaurants28.24Total for4502 3200 6332 1761$316.50\"]"
      ]
     },
     "execution_count": 7,
     "metadata": {},
     "output_type": "execute_result"
    }
   ],
   "source": [
    "transactionsList = re.split( r\"[A-z]* \\d\\d[A-z]* \\d\\d\", PDFContent)\n",
    "transactionsList"
   ]
  },
  {
   "cell_type": "code",
   "execution_count": 8,
   "metadata": {},
   "outputs": [
    {
     "name": "stdout",
     "output_type": "stream",
     "text": [
      "['MCDONALD S #9425         ', 'Restaurants13.54']\n",
      "MCDONALD S #9425         \n",
      "Restaurants\n",
      "13.54\n",
      "['SOBEYS #937              ', 'Retail and Grocery31.95']\n",
      "SOBEYS #937              \n",
      "Retail and Grocery\n",
      "31.95\n",
      "['SOBEYS #937              ', 'Retail and Grocery6.69']\n",
      "SOBEYS #937              \n",
      "Retail and Grocery\n",
      "6.69\n",
      "[\"WENDY'S            Q1R   \", 'Restaurants15.81']\n",
      "WENDY'S            Q1R   \n",
      "Restaurants\n",
      "15.81\n",
      "['DAIRY QUEEN # 12281      ', 'Restaurants14.43']\n",
      "DAIRY QUEEN # 12281      \n",
      "Restaurants\n",
      "14.43\n",
      "['FOOD FIGHT BBQ           ', 'Restaurants50.15']\n",
      "FOOD FIGHT BBQ           \n",
      "Restaurants\n",
      "50.15\n",
      "['GOOD EGG DINING          ', 'Restaurants31.60']\n",
      "GOOD EGG DINING          \n",
      "Restaurants\n",
      "31.60\n",
      "['Amazon.ca Prime Member   ', 'Professional and Financial Services44.07']\n",
      "Amazon.ca Prime Member   \n",
      "Professional and Financial Services\n",
      "44.07\n",
      "['ASIAN FOOD CENTRE        ', 'Retail and Grocery15.00']\n",
      "ASIAN FOOD CENTRE        \n",
      "Retail and Grocery\n",
      "15.00\n",
      "['POPEYES LOUISANA KITCHEN ', 'Restaurants26.52']\n",
      "POPEYES LOUISANA KITCHEN \n",
      "Restaurants\n",
      "26.52\n",
      "['ASIAN FOOD CENTRE        ', 'Retail and Grocery38.50']\n",
      "ASIAN FOOD CENTRE        \n",
      "Retail and Grocery\n",
      "38.50\n",
      "[\"KELSEY'S #7699           \", 'Restaurants28.24Total for4502 3200 6332 1761$316.50']\n",
      "KELSEY'S #7699           \n",
      "Restaurants\n",
      "28.24\n"
     ]
    }
   ],
   "source": [
    "SpendingCategory = [\"Personal and Household Expenses\",\"Professional and Financial Services\",\"Retail and Grocery\",\"Transportation\",\"Hotel, Entertainment and Recreation\",\"Restaurants\",\"Home and Office Improvement\",\"Health and Education\",\"Foreign Currency Transactions\"]\n",
    "data = []\n",
    "for i in transactionsList:\n",
    "    #print(i.split(\"ON\"))\n",
    "    #print(i)  \n",
    "    \n",
    "    for j in SpendingCategory:\n",
    "        result = i.find(j) \n",
    "        #print(result)\n",
    "        \n",
    "        if( result != -1):\n",
    "            if(j.find(\"Foreign Currency Transactions\") != -1):\n",
    "                print('his')\n",
    "                print(j)\n",
    "                print(i)\n",
    "                datastr = re.findall('\\d+\\.\\d+ USD @ \\d+\\.\\d+\\*\\*', i)\n",
    "                \n",
    "                print(datastr)#.trim()\n",
    "                #spent = re.findall('\\d+\\.\\d+', datastr[1])\n",
    "                print(j)\n",
    "                #print(spent)\n",
    "                #print(i.split(r'41.73  USD @ 1.314641745**'))\n",
    "                \n",
    "                \n",
    "            else:\n",
    "                datastr = re.split(i[result-15:result], i) #i.split(i[result-15:result])\n",
    "                print(datastr)\n",
    "                #location = re.split(' [A-z]*\\d+\\.\\d+', datastr[1])#[0]\n",
    "                spent = re.findall('\\d+\\.\\d+', datastr[1])[0]\n",
    "                #datastr.append(spent)\n",
    "                print(datastr[0])\n",
    "                print(j)\n",
    "                print(spent)\n",
    "                data.append({\"name\": datastr[0], \"category\":j, \"spent\": spent})\n",
    "        \n",
    "    "
   ]
  },
  {
   "cell_type": "code",
   "execution_count": 9,
   "metadata": {},
   "outputs": [
    {
     "data": {
      "text/plain": [
       "[{'name': 'MCDONALD S #9425         ',\n",
       "  'category': 'Restaurants',\n",
       "  'spent': '13.54'},\n",
       " {'name': 'SOBEYS #937              ',\n",
       "  'category': 'Retail and Grocery',\n",
       "  'spent': '31.95'},\n",
       " {'name': 'SOBEYS #937              ',\n",
       "  'category': 'Retail and Grocery',\n",
       "  'spent': '6.69'},\n",
       " {'name': \"WENDY'S            Q1R   \",\n",
       "  'category': 'Restaurants',\n",
       "  'spent': '15.81'},\n",
       " {'name': 'DAIRY QUEEN # 12281      ',\n",
       "  'category': 'Restaurants',\n",
       "  'spent': '14.43'},\n",
       " {'name': 'FOOD FIGHT BBQ           ',\n",
       "  'category': 'Restaurants',\n",
       "  'spent': '50.15'},\n",
       " {'name': 'GOOD EGG DINING          ',\n",
       "  'category': 'Restaurants',\n",
       "  'spent': '31.60'},\n",
       " {'name': 'Amazon.ca Prime Member   ',\n",
       "  'category': 'Professional and Financial Services',\n",
       "  'spent': '44.07'},\n",
       " {'name': 'ASIAN FOOD CENTRE        ',\n",
       "  'category': 'Retail and Grocery',\n",
       "  'spent': '15.00'},\n",
       " {'name': 'POPEYES LOUISANA KITCHEN ',\n",
       "  'category': 'Restaurants',\n",
       "  'spent': '26.52'},\n",
       " {'name': 'ASIAN FOOD CENTRE        ',\n",
       "  'category': 'Retail and Grocery',\n",
       "  'spent': '38.50'},\n",
       " {'name': \"KELSEY'S #7699           \",\n",
       "  'category': 'Restaurants',\n",
       "  'spent': '28.24'}]"
      ]
     },
     "execution_count": 9,
     "metadata": {},
     "output_type": "execute_result"
    }
   ],
   "source": [
    "data"
   ]
  },
  {
   "cell_type": "code",
   "execution_count": 10,
   "metadata": {},
   "outputs": [
    {
     "data": {
      "text/html": [
       "<div>\n",
       "<style scoped>\n",
       "    .dataframe tbody tr th:only-of-type {\n",
       "        vertical-align: middle;\n",
       "    }\n",
       "\n",
       "    .dataframe tbody tr th {\n",
       "        vertical-align: top;\n",
       "    }\n",
       "\n",
       "    .dataframe thead th {\n",
       "        text-align: right;\n",
       "    }\n",
       "</style>\n",
       "<table border=\"1\" class=\"dataframe\">\n",
       "  <thead>\n",
       "    <tr style=\"text-align: right;\">\n",
       "      <th></th>\n",
       "      <th>name</th>\n",
       "      <th>category</th>\n",
       "      <th>spent</th>\n",
       "    </tr>\n",
       "  </thead>\n",
       "  <tbody>\n",
       "    <tr>\n",
       "      <th>0</th>\n",
       "      <td>MCDONALD S #9425</td>\n",
       "      <td>Restaurants</td>\n",
       "      <td>13.54</td>\n",
       "    </tr>\n",
       "    <tr>\n",
       "      <th>1</th>\n",
       "      <td>SOBEYS #937</td>\n",
       "      <td>Retail and Grocery</td>\n",
       "      <td>31.95</td>\n",
       "    </tr>\n",
       "    <tr>\n",
       "      <th>2</th>\n",
       "      <td>SOBEYS #937</td>\n",
       "      <td>Retail and Grocery</td>\n",
       "      <td>6.69</td>\n",
       "    </tr>\n",
       "    <tr>\n",
       "      <th>3</th>\n",
       "      <td>WENDY'S            Q1R</td>\n",
       "      <td>Restaurants</td>\n",
       "      <td>15.81</td>\n",
       "    </tr>\n",
       "    <tr>\n",
       "      <th>4</th>\n",
       "      <td>DAIRY QUEEN # 12281</td>\n",
       "      <td>Restaurants</td>\n",
       "      <td>14.43</td>\n",
       "    </tr>\n",
       "    <tr>\n",
       "      <th>5</th>\n",
       "      <td>FOOD FIGHT BBQ</td>\n",
       "      <td>Restaurants</td>\n",
       "      <td>50.15</td>\n",
       "    </tr>\n",
       "    <tr>\n",
       "      <th>6</th>\n",
       "      <td>GOOD EGG DINING</td>\n",
       "      <td>Restaurants</td>\n",
       "      <td>31.60</td>\n",
       "    </tr>\n",
       "    <tr>\n",
       "      <th>7</th>\n",
       "      <td>Amazon.ca Prime Member</td>\n",
       "      <td>Professional and Financial Services</td>\n",
       "      <td>44.07</td>\n",
       "    </tr>\n",
       "    <tr>\n",
       "      <th>8</th>\n",
       "      <td>ASIAN FOOD CENTRE</td>\n",
       "      <td>Retail and Grocery</td>\n",
       "      <td>15.00</td>\n",
       "    </tr>\n",
       "    <tr>\n",
       "      <th>9</th>\n",
       "      <td>POPEYES LOUISANA KITCHEN</td>\n",
       "      <td>Restaurants</td>\n",
       "      <td>26.52</td>\n",
       "    </tr>\n",
       "    <tr>\n",
       "      <th>10</th>\n",
       "      <td>ASIAN FOOD CENTRE</td>\n",
       "      <td>Retail and Grocery</td>\n",
       "      <td>38.50</td>\n",
       "    </tr>\n",
       "    <tr>\n",
       "      <th>11</th>\n",
       "      <td>KELSEY'S #7699</td>\n",
       "      <td>Restaurants</td>\n",
       "      <td>28.24</td>\n",
       "    </tr>\n",
       "  </tbody>\n",
       "</table>\n",
       "</div>"
      ],
      "text/plain": [
       "                         name                             category  spent\n",
       "0   MCDONALD S #9425                                   Restaurants  13.54\n",
       "1   SOBEYS #937                                 Retail and Grocery  31.95\n",
       "2   SOBEYS #937                                 Retail and Grocery   6.69\n",
       "3   WENDY'S            Q1R                             Restaurants  15.81\n",
       "4   DAIRY QUEEN # 12281                                Restaurants  14.43\n",
       "5   FOOD FIGHT BBQ                                     Restaurants  50.15\n",
       "6   GOOD EGG DINING                                    Restaurants  31.60\n",
       "7   Amazon.ca Prime Member     Professional and Financial Services  44.07\n",
       "8   ASIAN FOOD CENTRE                           Retail and Grocery  15.00\n",
       "9   POPEYES LOUISANA KITCHEN                           Restaurants  26.52\n",
       "10  ASIAN FOOD CENTRE                           Retail and Grocery  38.50\n",
       "11  KELSEY'S #7699                                     Restaurants  28.24"
      ]
     },
     "execution_count": 10,
     "metadata": {},
     "output_type": "execute_result"
    }
   ],
   "source": [
    "df = pd.DataFrame(data)\n",
    "df.to_csv(r\"./csvs/\"+PdfName+\".csv\")\n",
    "df"
   ]
  },
  {
   "cell_type": "code",
   "execution_count": null,
   "metadata": {},
   "outputs": [],
   "source": []
  }
 ],
 "metadata": {
  "kernelspec": {
   "display_name": "Python 3",
   "language": "python",
   "name": "python3"
  },
  "language_info": {
   "codemirror_mode": {
    "name": "ipython",
    "version": 3
   },
   "file_extension": ".py",
   "mimetype": "text/x-python",
   "name": "python",
   "nbconvert_exporter": "python",
   "pygments_lexer": "ipython3",
   "version": "3.8.2"
  }
 },
 "nbformat": 4,
 "nbformat_minor": 4
}
